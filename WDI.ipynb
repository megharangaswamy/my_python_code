{
 "cells": [
  {
   "cell_type": "code",
   "execution_count": null,
   "metadata": {},
   "outputs": [],
   "source": [
    "# Import modules\n",
    "import pandas as pd\n",
    "\n",
    "# Set ipython's max row display\n",
    "pd.set_option('display.max_row', 1000)\n",
    "\n",
    "# Set iPython's max column width to 50\n",
    "pd.set_option('display.max_columns', 50)"
   ]
  },
  {
   "cell_type": "code",
   "execution_count": null,
   "metadata": {},
   "outputs": [],
   "source": [
    "#for loop \n",
    "\n",
    "for i in range(len(my_json['data'])):\n",
    "    \n",
    "#renaming \n",
    "df = df.rename(index=str, columns={\"A\": \"audio_id\", \"B\": \"dubbrSegemnt_start\",\"C\" : \"dubbrSegemnt_duration\",\"D\" : \"segemntId\",\"E\" : \"trackId\",\"F\": \"langCode\"})\n",
    "\n",
    "#spliting \n",
    "FN_firstPart = url_path.split('/')[-2]\n",
    "FN_lastPart = url_path.split('/')[-1]\n",
    "\n",
    "\n",
    "#creating an empty array\n",
    "dubbrSeg_start_array = []\n",
    "\n",
    "#List unique values in the df['name'] column\n",
    "df.name.unique()\n",
    "\n",
    "#get number of null values\n",
    "df.isnull().values.any()\n",
    "df.isnull().sum()\n",
    "\n",
    "#addig new column\n",
    "df['My new column name'] = 'default value'\n",
    "\n",
    "#if you want to specify the order(position of teh column) of the column, you can use insert\n",
    "#here, we are inserting at index 1 (so should be second col in dataframe)\n",
    "df.insert(1, 'My 2nd new column', 'default value 2')\n",
    "df\n",
    "\n",
    "\n",
    "#to get into one value in side 1 row with 1 column\n",
    "for j in range(0,len(df)):              \n",
    "    array_dubbrSegemnt_start = df['dubbrSegemnt_start'].iloc[j]\n",
    "    array_dubbrSegemnt_duration = df['dubbrSegemnt_duration'].iloc[j]\n",
    "\n",
    "    \n",
    "#read a csv file\n",
    "df_DS_output= pd.read_csv('/media/home/megha/1_audio_current/audio_mp4_wav_test_with_langCode/wave_files_audio_split/deepspeech_prediction.csv', sep=',')\n",
    "\n",
    "#save dataframe as csv file\n",
    "df_excel.to_csv(outputdir_split+ \"/deepspeech_prediction.csv\", sep=',') #in the \"outputdir_split\" folder, the csv file will be saved\n",
    "\n",
    "\n",
    "#filling column info \n",
    "df_excel['segmentMetaId'][i] = segmentMetaId\n"
   ]
  }
 ],
 "metadata": {
  "kernelspec": {
   "display_name": "Python 2",
   "language": "python",
   "name": "python2"
  },
  "language_info": {
   "codemirror_mode": {
    "name": "ipython",
    "version": 2
   },
   "file_extension": ".py",
   "mimetype": "text/x-python",
   "name": "python",
   "nbconvert_exporter": "python",
   "pygments_lexer": "ipython2",
   "version": "2.7.12"
  }
 },
 "nbformat": 4,
 "nbformat_minor": 2
}
